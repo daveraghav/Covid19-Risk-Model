{
 "cells": [
  {
   "cell_type": "markdown",
   "metadata": {},
   "source": [
    "# Read The Prepared Data "
   ]
  },
  {
   "cell_type": "code",
   "execution_count": 22,
   "metadata": {},
   "outputs": [],
   "source": [
    "import numpy as np\n",
    "import pandas as pd\n",
    "%matplotlib inline\n",
    "import matplotlib.pyplot as plt\n",
    "import seaborn as sns\n",
    "\n",
    "import joblib"
   ]
  },
  {
   "cell_type": "code",
   "execution_count": 2,
   "metadata": {},
   "outputs": [],
   "source": [
    "all_data = pd.read_pickle(r'./data/processed/all_data.pickle')"
   ]
  },
  {
   "cell_type": "code",
   "execution_count": 3,
   "metadata": {},
   "outputs": [],
   "source": [
    "all_data.drop(columns=[\n",
    "    'Area name',\n",
    "    'Area type',\n",
    "    'Specimen date',\n",
    "    'LAD16NM'\n",
    "], inplace=True)"
   ]
  },
  {
   "cell_type": "code",
   "execution_count": 4,
   "metadata": {},
   "outputs": [
    {
     "name": "stdout",
     "output_type": "stream",
     "text": [
      "<class 'pandas.core.frame.DataFrame'>\n",
      "Int64Index: 13623 entries, 0 to 13622\n",
      "Data columns (total 44 columns):\n",
      " #   Column                               Non-Null Count  Dtype         \n",
      "---  ------                               --------------  -----         \n",
      " 0   Area code                            13623 non-null  object        \n",
      " 1   Daily lab-confirmed cases            13622 non-null  float64       \n",
      " 2   Cumulative lab-confirmed cases       13623 non-null  int64         \n",
      " 3   Date                                 13623 non-null  datetime64[ns]\n",
      " 4   rolling_mean_3                       13623 non-null  float64       \n",
      " 5   rolling_mean_7                       13623 non-null  float64       \n",
      " 6   grad_0                               13623 non-null  float64       \n",
      " 7   grad_n3                              13623 non-null  float64       \n",
      " 8   grad_n7                              13623 non-null  float64       \n",
      " 9   current_r0                           13623 non-null  float64       \n",
      " 10  previous_day_daily_cases             13622 non-null  float64       \n",
      " 11  previous_day_cumulative_cases        13623 non-null  float64       \n",
      " 12  rolling_r0_3                         13316 non-null  float64       \n",
      " 13  rolling_r0_7                         12091 non-null  float64       \n",
      " 14  rolling_previous_day_daily_cases_4   13005 non-null  float64       \n",
      " 15  K_value_1                            13623 non-null  float64       \n",
      " 16  K_value_2                            13623 non-null  float64       \n",
      " 17  cases_over_100_startdelta            13623 non-null  int64         \n",
      " 18  cases_over_100_enddelta              13623 non-null  int64         \n",
      " 19  cases_over_100_active                13623 non-null  int64         \n",
      " 20  schools_closed_startdelta            13623 non-null  int64         \n",
      " 21  schools_closed_enddelta              13623 non-null  int64         \n",
      " 22  schools_closed_active                13623 non-null  int64         \n",
      " 23  restaurants_cafes_closed_startdelta  13623 non-null  int64         \n",
      " 24  restaurants_cafes_closed_enddelta    13623 non-null  int64         \n",
      " 25  restaurants_cafes_closed_active      13623 non-null  int64         \n",
      " 26  nationwide_lockdown_startdelta       13623 non-null  int64         \n",
      " 27  nationwide_lockdown_enddelta         13623 non-null  int64         \n",
      " 28  nationwide_lockdown_active           13623 non-null  int64         \n",
      " 29  name                                 13623 non-null  object        \n",
      " 30  median age                           13623 non-null  float64       \n",
      " 31  population density                   13623 non-null  int64         \n",
      " 32  population density deciles           13623 non-null  int64         \n",
      " 33  Age 0 to 15                          13623 non-null  float64       \n",
      " 34  Age 65 plus                          13623 non-null  float64       \n",
      " 35  Age 85 plus                          13623 non-null  float64       \n",
      " 36  Working age 16 to 64                 13623 non-null  float64       \n",
      " 37  Old Age Dependency Ratio             13623 non-null  float64       \n",
      " 38  Dependency Ratio                     13623 non-null  float64       \n",
      " 39  ref_r0                               13623 non-null  float64       \n",
      " 40  AREAEHECT                            13623 non-null  float64       \n",
      " 41  AREACHECT                            13623 non-null  float64       \n",
      " 42  AREAIHECT                            13623 non-null  float64       \n",
      " 43  AREALHECT                            13623 non-null  float64       \n",
      "dtypes: datetime64[ns](1), float64(26), int64(15), object(2)\n",
      "memory usage: 4.7+ MB\n"
     ]
    }
   ],
   "source": [
    "all_data.info()"
   ]
  },
  {
   "cell_type": "code",
   "execution_count": 5,
   "metadata": {},
   "outputs": [],
   "source": [
    "all_data.drop(columns=[\n",
    "    'Cumulative lab-confirmed cases',\n",
    "    'grad_n7',\n",
    "    'previous_day_daily_cases',\n",
    "    'rolling_r0_3',\n",
    "    'K_value_2',\n",
    "    'name',\n",
    "    'AREAEHECT',\n",
    "    'AREACHECT',\n",
    "    'AREAIHECT'\n",
    "], inplace=True)"
   ]
  },
  {
   "cell_type": "code",
   "execution_count": 6,
   "metadata": {},
   "outputs": [
    {
     "name": "stdout",
     "output_type": "stream",
     "text": [
      "<class 'pandas.core.frame.DataFrame'>\n",
      "Int64Index: 13623 entries, 0 to 13622\n",
      "Data columns (total 35 columns):\n",
      " #   Column                               Non-Null Count  Dtype         \n",
      "---  ------                               --------------  -----         \n",
      " 0   Area code                            13623 non-null  object        \n",
      " 1   Daily lab-confirmed cases            13622 non-null  float64       \n",
      " 2   Date                                 13623 non-null  datetime64[ns]\n",
      " 3   rolling_mean_3                       13623 non-null  float64       \n",
      " 4   rolling_mean_7                       13623 non-null  float64       \n",
      " 5   grad_0                               13623 non-null  float64       \n",
      " 6   grad_n3                              13623 non-null  float64       \n",
      " 7   current_r0                           13623 non-null  float64       \n",
      " 8   previous_day_cumulative_cases        13623 non-null  float64       \n",
      " 9   rolling_r0_7                         12091 non-null  float64       \n",
      " 10  rolling_previous_day_daily_cases_4   13005 non-null  float64       \n",
      " 11  K_value_1                            13623 non-null  float64       \n",
      " 12  cases_over_100_startdelta            13623 non-null  int64         \n",
      " 13  cases_over_100_enddelta              13623 non-null  int64         \n",
      " 14  cases_over_100_active                13623 non-null  int64         \n",
      " 15  schools_closed_startdelta            13623 non-null  int64         \n",
      " 16  schools_closed_enddelta              13623 non-null  int64         \n",
      " 17  schools_closed_active                13623 non-null  int64         \n",
      " 18  restaurants_cafes_closed_startdelta  13623 non-null  int64         \n",
      " 19  restaurants_cafes_closed_enddelta    13623 non-null  int64         \n",
      " 20  restaurants_cafes_closed_active      13623 non-null  int64         \n",
      " 21  nationwide_lockdown_startdelta       13623 non-null  int64         \n",
      " 22  nationwide_lockdown_enddelta         13623 non-null  int64         \n",
      " 23  nationwide_lockdown_active           13623 non-null  int64         \n",
      " 24  median age                           13623 non-null  float64       \n",
      " 25  population density                   13623 non-null  int64         \n",
      " 26  population density deciles           13623 non-null  int64         \n",
      " 27  Age 0 to 15                          13623 non-null  float64       \n",
      " 28  Age 65 plus                          13623 non-null  float64       \n",
      " 29  Age 85 plus                          13623 non-null  float64       \n",
      " 30  Working age 16 to 64                 13623 non-null  float64       \n",
      " 31  Old Age Dependency Ratio             13623 non-null  float64       \n",
      " 32  Dependency Ratio                     13623 non-null  float64       \n",
      " 33  ref_r0                               13623 non-null  float64       \n",
      " 34  AREALHECT                            13623 non-null  float64       \n",
      "dtypes: datetime64[ns](1), float64(19), int64(14), object(1)\n",
      "memory usage: 3.7+ MB\n"
     ]
    }
   ],
   "source": [
    "all_data.info()"
   ]
  },
  {
   "cell_type": "code",
   "execution_count": 7,
   "metadata": {},
   "outputs": [],
   "source": [
    "all_data.dropna(inplace=True)"
   ]
  },
  {
   "cell_type": "markdown",
   "metadata": {},
   "source": [
    "# Predict Daily New Cases"
   ]
  },
  {
   "cell_type": "markdown",
   "metadata": {},
   "source": [
    "## XGRegressor (Shuffled Split Validation Data) "
   ]
  },
  {
   "cell_type": "code",
   "execution_count": 8,
   "metadata": {},
   "outputs": [],
   "source": [
    "from sklearn.model_selection import train_test_split\n",
    "from xgboost import XGBRegressor"
   ]
  },
  {
   "cell_type": "code",
   "execution_count": 9,
   "metadata": {},
   "outputs": [],
   "source": [
    "from sklearn.preprocessing import OrdinalEncoder"
   ]
  },
  {
   "cell_type": "code",
   "execution_count": 10,
   "metadata": {},
   "outputs": [],
   "source": [
    "X = all_data.drop(columns=['Date', 'Daily lab-confirmed cases'])"
   ]
  },
  {
   "cell_type": "code",
   "execution_count": 11,
   "metadata": {},
   "outputs": [],
   "source": [
    "y = all_data['Daily lab-confirmed cases']"
   ]
  },
  {
   "cell_type": "code",
   "execution_count": 12,
   "metadata": {},
   "outputs": [],
   "source": [
    "ordinal_encoder = OrdinalEncoder()"
   ]
  },
  {
   "cell_type": "code",
   "execution_count": 13,
   "metadata": {},
   "outputs": [],
   "source": [
    "X = ordinal_encoder.fit_transform(X)"
   ]
  },
  {
   "cell_type": "code",
   "execution_count": 14,
   "metadata": {},
   "outputs": [],
   "source": [
    "X_train, X_test, y_train, y_test = train_test_split(X, y, test_size=0.2)"
   ]
  },
  {
   "cell_type": "code",
   "execution_count": 15,
   "metadata": {},
   "outputs": [],
   "source": [
    "xg_regressor = XGBRegressor()"
   ]
  },
  {
   "cell_type": "code",
   "execution_count": 16,
   "metadata": {},
   "outputs": [
    {
     "name": "stdout",
     "output_type": "stream",
     "text": [
      "[0]\tvalidation_0-rmse:10.47390\n",
      "Will train until validation_0-rmse hasn't improved in 2 rounds.\n",
      "[1]\tvalidation_0-rmse:8.41127\n",
      "[2]\tvalidation_0-rmse:7.07498\n",
      "[3]\tvalidation_0-rmse:6.35493\n",
      "[4]\tvalidation_0-rmse:5.84340\n",
      "[5]\tvalidation_0-rmse:5.56473\n",
      "[6]\tvalidation_0-rmse:5.37894\n",
      "[7]\tvalidation_0-rmse:5.26462\n",
      "[8]\tvalidation_0-rmse:5.20235\n",
      "[9]\tvalidation_0-rmse:5.16157\n",
      "[10]\tvalidation_0-rmse:5.13822\n",
      "[11]\tvalidation_0-rmse:5.12162\n",
      "[12]\tvalidation_0-rmse:5.10562\n",
      "[13]\tvalidation_0-rmse:5.07595\n",
      "[14]\tvalidation_0-rmse:5.04130\n",
      "[15]\tvalidation_0-rmse:5.00775\n",
      "[16]\tvalidation_0-rmse:4.98538\n",
      "[17]\tvalidation_0-rmse:4.97324\n",
      "[18]\tvalidation_0-rmse:4.95682\n",
      "[19]\tvalidation_0-rmse:4.94491\n",
      "[20]\tvalidation_0-rmse:4.95413\n",
      "[21]\tvalidation_0-rmse:4.95334\n",
      "Stopping. Best iteration:\n",
      "[19]\tvalidation_0-rmse:4.94491\n",
      "\n"
     ]
    },
    {
     "data": {
      "text/plain": [
       "XGBRegressor(base_score=0.5, booster=None, colsample_bylevel=1,\n",
       "             colsample_bynode=1, colsample_bytree=1, gamma=0, gpu_id=-1,\n",
       "             importance_type='gain', interaction_constraints=None,\n",
       "             learning_rate=0.300000012, max_delta_step=0, max_depth=6,\n",
       "             min_child_weight=1, missing=nan, monotone_constraints=None,\n",
       "             n_estimators=100, n_jobs=0, num_parallel_tree=1,\n",
       "             objective='reg:squarederror', random_state=0, reg_alpha=0,\n",
       "             reg_lambda=1, scale_pos_weight=1, subsample=1, tree_method=None,\n",
       "             validate_parameters=False, verbosity=None)"
      ]
     },
     "execution_count": 16,
     "metadata": {},
     "output_type": "execute_result"
    }
   ],
   "source": [
    "xg_regressor.fit(X_train, y_train, early_stopping_rounds=2, eval_set=[(X_test, y_test)])"
   ]
  },
  {
   "cell_type": "code",
   "execution_count": 17,
   "metadata": {},
   "outputs": [
    {
     "data": {
      "image/png": "[encoded data removed]",
      "text/plain": [
       "<Figure size 432x288 with 1 Axes>"
      ]
     },
     "metadata": {
      "needs_background": "light"
     },
     "output_type": "display_data"
    }
   ],
   "source": [
    "plt.plot(xg_regressor.evals_result()['validation_0']['rmse'])\n",
    "plt.show()"
   ]
  },
  {
   "cell_type": "code",
   "execution_count": 18,
   "metadata": {},
   "outputs": [],
   "source": [
    "y_pred = xg_regressor.predict(X_test)"
   ]
  },
  {
   "cell_type": "code",
   "execution_count": 19,
   "metadata": {},
   "outputs": [],
   "source": [
    "from sklearn.metrics import mean_absolute_error, mean_squared_error"
   ]
  },
  {
   "cell_type": "code",
   "execution_count": 20,
   "metadata": {},
   "outputs": [
    {
     "data": {
      "text/plain": [
       "0.5208568672617345"
      ]
     },
     "execution_count": 20,
     "metadata": {},
     "output_type": "execute_result"
    }
   ],
   "source": [
    "np.sqrt(mean_squared_error(y_test, y_pred))/y_test.mean()"
   ]
  },
  {
   "cell_type": "code",
   "execution_count": 21,
   "metadata": {},
   "outputs": [
    {
     "data": {
      "image/png": "[encoded data removed]",
      "text/plain": [
       "<Figure size 800x500 with 1 Axes>"
      ]
     },
     "metadata": {
      "needs_background": "light"
     },
     "output_type": "display_data"
    }
   ],
   "source": [
    "fig, ax = plt.subplots(figsize=(8,5), dpi=100)\n",
    "ax.scatter(y_test, y_pred, alpha=0.5)\n",
    "ax.set_aspect('equal')\n",
    "plt.title('Daily New Cases Prediction Results')\n",
    "plt.xlabel('Actual Daily New Cases')\n",
    "plt.ylabel('Predicted Daily New Cases')\n",
    "plt.grid(which='both', alpha=0.25)\n",
    "plt.show()"
   ]
  },
  {
   "cell_type": "code",
   "execution_count": 23,
   "metadata": {},
   "outputs": [
    {
     "data": {
      "text/plain": [
       "['./data/models/xgregressor_dailycases.joblib']"
      ]
     },
     "execution_count": 23,
     "metadata": {},
     "output_type": "execute_result"
    }
   ],
   "source": [
    "joblib.dump(xg_regressor,'./data/models/xgregressor_dailycases.joblib')"
   ]
  },
  {
   "cell_type": "code",
   "execution_count": null,
   "metadata": {},
   "outputs": [],
   "source": []
  }
 ],
 "metadata": {
  "kernelspec": {
   "display_name": "Python 3",
   "language": "python",
   "name": "python3"
  },
  "language_info": {
   "codemirror_mode": {
    "name": "ipython",
    "version": 3
   },
   "file_extension": ".py",
   "mimetype": "text/x-python",
   "name": "python",
   "nbconvert_exporter": "python",
   "pygments_lexer": "ipython3",
   "version": "3.7.6"
  }
 },
 "nbformat": 4,
 "nbformat_minor": 4
}
